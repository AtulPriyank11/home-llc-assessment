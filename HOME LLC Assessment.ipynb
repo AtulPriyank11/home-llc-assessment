{
 "cells": [
  {
   "cell_type": "code",
   "execution_count": 1,
   "id": "994e3e4f",
   "metadata": {},
   "outputs": [],
   "source": [
    "import pandas as pd\n",
    "\n",
    "# Load data from CSV files\n",
    "pd_CS = pd.read_csv(\"C:/Users/atulp/Downloads/HOME LLC Assignment/CSUSHPISA.csv\")\n",
    "unemployment_data = pd.read_csv(\"C:/Users/atulp/Downloads/HOME LLC Assignment/UNRATE.csv\")\n",
    "interest_rates_data = pd.read_csv(\"C:/Users/atulp/Downloads/HOME LLC Assignment/FEDFUNDS.csv\")\n",
    "income = pd.read_csv(\"C:/Users/atulp/Downloads/HOME LLC Assignment/DSPIC96.csv\")\n",
    "per_capita_gdp = pd.read_csv(\"C:/Users/atulp/Downloads/HOME LLC Assignment/A939RX0Q048SBEA.csv\")\n",
    "housing_subsidy = pd.read_csv(\"C:/Users/atulp/Downloads/HOME LLC Assignment/L312051A027NBEA.csv\")\n",
    "household_units = pd.read_csv(\"C:/Users/atulp/Downloads/HOME LLC Assignment/HOUSTNSA.csv\")\n",
    "# ... Load other data files ...\n",
    "\n",
    "# Merge data based on a common date column\n",
    "merged_data = pd_CS.merge(unemployment_data, on='DATE', how='inner')\n",
    "merged_data = merged_data.merge(interest_rates_data, on='DATE', how='inner')\n",
    "merged_data = merged_data.merge(income, on='DATE', how='inner')\n",
    "merged_data = merged_data.merge(per_capita_gdp, on='DATE', how='inner')\n",
    "merged_data = merged_data.merge(housing_subsidy, on='DATE', how='inner')\n",
    "merged_data = merged_data.merge(household_units, on='DATE', how='inner')\n",
    "# ... Merge other data frames ...\n",
    "\n",
    "# Sort data by date\n",
    "merged_data.sort_values(by='DATE', inplace=True)"
   ]
  },
  {
   "cell_type": "code",
   "execution_count": 2,
   "id": "3f0db520",
   "metadata": {},
   "outputs": [
    {
     "data": {
      "text/html": [
       "<div>\n",
       "<style scoped>\n",
       "    .dataframe tbody tr th:only-of-type {\n",
       "        vertical-align: middle;\n",
       "    }\n",
       "\n",
       "    .dataframe tbody tr th {\n",
       "        vertical-align: top;\n",
       "    }\n",
       "\n",
       "    .dataframe thead th {\n",
       "        text-align: right;\n",
       "    }\n",
       "</style>\n",
       "<table border=\"1\" class=\"dataframe\">\n",
       "  <thead>\n",
       "    <tr style=\"text-align: right;\">\n",
       "      <th></th>\n",
       "      <th>DATE</th>\n",
       "      <th>CSUSHPISA</th>\n",
       "      <th>UNRATE</th>\n",
       "      <th>FEDFUNDS</th>\n",
       "      <th>DSPIC96</th>\n",
       "      <th>A939RX0Q048SBEA</th>\n",
       "      <th>L312051A027NBEA</th>\n",
       "      <th>HOUSTNSA</th>\n",
       "    </tr>\n",
       "  </thead>\n",
       "  <tbody>\n",
       "    <tr>\n",
       "      <th>0</th>\n",
       "      <td>2004-01-01</td>\n",
       "      <td>141.646</td>\n",
       "      <td>5.7</td>\n",
       "      <td>1.00</td>\n",
       "      <td>10472.7</td>\n",
       "      <td>48633.0</td>\n",
       "      <td>27.201</td>\n",
       "      <td>124.5</td>\n",
       "    </tr>\n",
       "    <tr>\n",
       "      <th>1</th>\n",
       "      <td>2005-01-01</td>\n",
       "      <td>161.288</td>\n",
       "      <td>5.3</td>\n",
       "      <td>2.28</td>\n",
       "      <td>10670.3</td>\n",
       "      <td>50068.0</td>\n",
       "      <td>27.651</td>\n",
       "      <td>142.9</td>\n",
       "    </tr>\n",
       "    <tr>\n",
       "      <th>2</th>\n",
       "      <td>2006-01-01</td>\n",
       "      <td>182.320</td>\n",
       "      <td>4.7</td>\n",
       "      <td>4.29</td>\n",
       "      <td>11096.7</td>\n",
       "      <td>51200.0</td>\n",
       "      <td>28.604</td>\n",
       "      <td>153.0</td>\n",
       "    </tr>\n",
       "    <tr>\n",
       "      <th>3</th>\n",
       "      <td>2007-01-01</td>\n",
       "      <td>184.516</td>\n",
       "      <td>4.6</td>\n",
       "      <td>5.25</td>\n",
       "      <td>11403.7</td>\n",
       "      <td>51492.0</td>\n",
       "      <td>29.512</td>\n",
       "      <td>95.0</td>\n",
       "    </tr>\n",
       "    <tr>\n",
       "      <th>4</th>\n",
       "      <td>2008-01-01</td>\n",
       "      <td>173.132</td>\n",
       "      <td>5.0</td>\n",
       "      <td>3.94</td>\n",
       "      <td>11553.4</td>\n",
       "      <td>51740.0</td>\n",
       "      <td>29.876</td>\n",
       "      <td>70.8</td>\n",
       "    </tr>\n",
       "    <tr>\n",
       "      <th>5</th>\n",
       "      <td>2009-01-01</td>\n",
       "      <td>151.506</td>\n",
       "      <td>7.8</td>\n",
       "      <td>0.15</td>\n",
       "      <td>11718.0</td>\n",
       "      <td>49594.0</td>\n",
       "      <td>32.883</td>\n",
       "      <td>31.9</td>\n",
       "    </tr>\n",
       "    <tr>\n",
       "      <th>6</th>\n",
       "      <td>2010-01-01</td>\n",
       "      <td>147.395</td>\n",
       "      <td>9.8</td>\n",
       "      <td>0.11</td>\n",
       "      <td>11644.6</td>\n",
       "      <td>50036.0</td>\n",
       "      <td>32.669</td>\n",
       "      <td>38.9</td>\n",
       "    </tr>\n",
       "    <tr>\n",
       "      <th>7</th>\n",
       "      <td>2011-01-01</td>\n",
       "      <td>141.522</td>\n",
       "      <td>9.1</td>\n",
       "      <td>0.17</td>\n",
       "      <td>12084.4</td>\n",
       "      <td>50646.0</td>\n",
       "      <td>34.230</td>\n",
       "      <td>40.2</td>\n",
       "    </tr>\n",
       "    <tr>\n",
       "      <th>8</th>\n",
       "      <td>2012-01-01</td>\n",
       "      <td>136.608</td>\n",
       "      <td>8.3</td>\n",
       "      <td>0.08</td>\n",
       "      <td>12311.1</td>\n",
       "      <td>51559.0</td>\n",
       "      <td>33.283</td>\n",
       "      <td>47.2</td>\n",
       "    </tr>\n",
       "    <tr>\n",
       "      <th>9</th>\n",
       "      <td>2013-01-01</td>\n",
       "      <td>146.827</td>\n",
       "      <td>8.0</td>\n",
       "      <td>0.14</td>\n",
       "      <td>12258.9</td>\n",
       "      <td>51998.0</td>\n",
       "      <td>33.213</td>\n",
       "      <td>58.7</td>\n",
       "    </tr>\n",
       "    <tr>\n",
       "      <th>10</th>\n",
       "      <td>2014-01-01</td>\n",
       "      <td>161.927</td>\n",
       "      <td>6.6</td>\n",
       "      <td>0.07</td>\n",
       "      <td>12513.3</td>\n",
       "      <td>52266.0</td>\n",
       "      <td>33.806</td>\n",
       "      <td>60.7</td>\n",
       "    </tr>\n",
       "    <tr>\n",
       "      <th>11</th>\n",
       "      <td>2015-01-01</td>\n",
       "      <td>168.634</td>\n",
       "      <td>5.7</td>\n",
       "      <td>0.11</td>\n",
       "      <td>13224.7</td>\n",
       "      <td>53806.0</td>\n",
       "      <td>34.859</td>\n",
       "      <td>73.0</td>\n",
       "    </tr>\n",
       "    <tr>\n",
       "      <th>12</th>\n",
       "      <td>2016-01-01</td>\n",
       "      <td>177.272</td>\n",
       "      <td>4.8</td>\n",
       "      <td>0.34</td>\n",
       "      <td>13531.6</td>\n",
       "      <td>54267.0</td>\n",
       "      <td>37.550</td>\n",
       "      <td>74.3</td>\n",
       "    </tr>\n",
       "    <tr>\n",
       "      <th>13</th>\n",
       "      <td>2017-01-01</td>\n",
       "      <td>186.800</td>\n",
       "      <td>4.7</td>\n",
       "      <td>0.65</td>\n",
       "      <td>13747.2</td>\n",
       "      <td>54866.0</td>\n",
       "      <td>35.771</td>\n",
       "      <td>82.3</td>\n",
       "    </tr>\n",
       "    <tr>\n",
       "      <th>14</th>\n",
       "      <td>2018-01-01</td>\n",
       "      <td>198.294</td>\n",
       "      <td>4.0</td>\n",
       "      <td>1.41</td>\n",
       "      <td>14173.9</td>\n",
       "      <td>56195.0</td>\n",
       "      <td>38.859</td>\n",
       "      <td>91.6</td>\n",
       "    </tr>\n",
       "    <tr>\n",
       "      <th>15</th>\n",
       "      <td>2019-01-01</td>\n",
       "      <td>206.495</td>\n",
       "      <td>4.0</td>\n",
       "      <td>2.40</td>\n",
       "      <td>14791.2</td>\n",
       "      <td>57100.0</td>\n",
       "      <td>40.185</td>\n",
       "      <td>87.0</td>\n",
       "    </tr>\n",
       "    <tr>\n",
       "      <th>16</th>\n",
       "      <td>2020-01-01</td>\n",
       "      <td>214.904</td>\n",
       "      <td>3.5</td>\n",
       "      <td>1.55</td>\n",
       "      <td>15149.7</td>\n",
       "      <td>57279.0</td>\n",
       "      <td>44.147</td>\n",
       "      <td>113.1</td>\n",
       "    </tr>\n",
       "    <tr>\n",
       "      <th>17</th>\n",
       "      <td>2021-01-01</td>\n",
       "      <td>239.413</td>\n",
       "      <td>6.3</td>\n",
       "      <td>0.09</td>\n",
       "      <td>17099.2</td>\n",
       "      <td>57882.0</td>\n",
       "      <td>45.296</td>\n",
       "      <td>115.2</td>\n",
       "    </tr>\n",
       "  </tbody>\n",
       "</table>\n",
       "</div>"
      ],
      "text/plain": [
       "          DATE  CSUSHPISA  UNRATE  FEDFUNDS  DSPIC96  A939RX0Q048SBEA  \\\n",
       "0   2004-01-01    141.646     5.7      1.00  10472.7          48633.0   \n",
       "1   2005-01-01    161.288     5.3      2.28  10670.3          50068.0   \n",
       "2   2006-01-01    182.320     4.7      4.29  11096.7          51200.0   \n",
       "3   2007-01-01    184.516     4.6      5.25  11403.7          51492.0   \n",
       "4   2008-01-01    173.132     5.0      3.94  11553.4          51740.0   \n",
       "5   2009-01-01    151.506     7.8      0.15  11718.0          49594.0   \n",
       "6   2010-01-01    147.395     9.8      0.11  11644.6          50036.0   \n",
       "7   2011-01-01    141.522     9.1      0.17  12084.4          50646.0   \n",
       "8   2012-01-01    136.608     8.3      0.08  12311.1          51559.0   \n",
       "9   2013-01-01    146.827     8.0      0.14  12258.9          51998.0   \n",
       "10  2014-01-01    161.927     6.6      0.07  12513.3          52266.0   \n",
       "11  2015-01-01    168.634     5.7      0.11  13224.7          53806.0   \n",
       "12  2016-01-01    177.272     4.8      0.34  13531.6          54267.0   \n",
       "13  2017-01-01    186.800     4.7      0.65  13747.2          54866.0   \n",
       "14  2018-01-01    198.294     4.0      1.41  14173.9          56195.0   \n",
       "15  2019-01-01    206.495     4.0      2.40  14791.2          57100.0   \n",
       "16  2020-01-01    214.904     3.5      1.55  15149.7          57279.0   \n",
       "17  2021-01-01    239.413     6.3      0.09  17099.2          57882.0   \n",
       "\n",
       "    L312051A027NBEA  HOUSTNSA  \n",
       "0            27.201     124.5  \n",
       "1            27.651     142.9  \n",
       "2            28.604     153.0  \n",
       "3            29.512      95.0  \n",
       "4            29.876      70.8  \n",
       "5            32.883      31.9  \n",
       "6            32.669      38.9  \n",
       "7            34.230      40.2  \n",
       "8            33.283      47.2  \n",
       "9            33.213      58.7  \n",
       "10           33.806      60.7  \n",
       "11           34.859      73.0  \n",
       "12           37.550      74.3  \n",
       "13           35.771      82.3  \n",
       "14           38.859      91.6  \n",
       "15           40.185      87.0  \n",
       "16           44.147     113.1  \n",
       "17           45.296     115.2  "
      ]
     },
     "execution_count": 2,
     "metadata": {},
     "output_type": "execute_result"
    }
   ],
   "source": [
    "merged_data "
   ]
  },
  {
   "cell_type": "code",
   "execution_count": 3,
   "id": "49319d8e",
   "metadata": {},
   "outputs": [],
   "source": [
    "merged_data[\"DATE\"] = pd.to_datetime(merged_data['DATE'])"
   ]
  },
  {
   "cell_type": "code",
   "execution_count": 4,
   "id": "e91ecc4b",
   "metadata": {},
   "outputs": [
    {
     "data": {
      "text/html": [
       "<div>\n",
       "<style scoped>\n",
       "    .dataframe tbody tr th:only-of-type {\n",
       "        vertical-align: middle;\n",
       "    }\n",
       "\n",
       "    .dataframe tbody tr th {\n",
       "        vertical-align: top;\n",
       "    }\n",
       "\n",
       "    .dataframe thead th {\n",
       "        text-align: right;\n",
       "    }\n",
       "</style>\n",
       "<table border=\"1\" class=\"dataframe\">\n",
       "  <thead>\n",
       "    <tr style=\"text-align: right;\">\n",
       "      <th></th>\n",
       "      <th>DATE</th>\n",
       "      <th>CSUSHPISA</th>\n",
       "      <th>UNRATE</th>\n",
       "      <th>FEDFUNDS</th>\n",
       "      <th>DSPIC96</th>\n",
       "      <th>A939RX0Q048SBEA</th>\n",
       "      <th>L312051A027NBEA</th>\n",
       "      <th>HOUSTNSA</th>\n",
       "      <th>Year</th>\n",
       "      <th>Month</th>\n",
       "    </tr>\n",
       "  </thead>\n",
       "  <tbody>\n",
       "    <tr>\n",
       "      <th>0</th>\n",
       "      <td>2004-01-01</td>\n",
       "      <td>141.646</td>\n",
       "      <td>5.7</td>\n",
       "      <td>1.00</td>\n",
       "      <td>10472.7</td>\n",
       "      <td>48633.0</td>\n",
       "      <td>27.201</td>\n",
       "      <td>124.5</td>\n",
       "      <td>2004</td>\n",
       "      <td>1</td>\n",
       "    </tr>\n",
       "    <tr>\n",
       "      <th>1</th>\n",
       "      <td>2005-01-01</td>\n",
       "      <td>161.288</td>\n",
       "      <td>5.3</td>\n",
       "      <td>2.28</td>\n",
       "      <td>10670.3</td>\n",
       "      <td>50068.0</td>\n",
       "      <td>27.651</td>\n",
       "      <td>142.9</td>\n",
       "      <td>2005</td>\n",
       "      <td>1</td>\n",
       "    </tr>\n",
       "    <tr>\n",
       "      <th>2</th>\n",
       "      <td>2006-01-01</td>\n",
       "      <td>182.320</td>\n",
       "      <td>4.7</td>\n",
       "      <td>4.29</td>\n",
       "      <td>11096.7</td>\n",
       "      <td>51200.0</td>\n",
       "      <td>28.604</td>\n",
       "      <td>153.0</td>\n",
       "      <td>2006</td>\n",
       "      <td>1</td>\n",
       "    </tr>\n",
       "    <tr>\n",
       "      <th>3</th>\n",
       "      <td>2007-01-01</td>\n",
       "      <td>184.516</td>\n",
       "      <td>4.6</td>\n",
       "      <td>5.25</td>\n",
       "      <td>11403.7</td>\n",
       "      <td>51492.0</td>\n",
       "      <td>29.512</td>\n",
       "      <td>95.0</td>\n",
       "      <td>2007</td>\n",
       "      <td>1</td>\n",
       "    </tr>\n",
       "    <tr>\n",
       "      <th>4</th>\n",
       "      <td>2008-01-01</td>\n",
       "      <td>173.132</td>\n",
       "      <td>5.0</td>\n",
       "      <td>3.94</td>\n",
       "      <td>11553.4</td>\n",
       "      <td>51740.0</td>\n",
       "      <td>29.876</td>\n",
       "      <td>70.8</td>\n",
       "      <td>2008</td>\n",
       "      <td>1</td>\n",
       "    </tr>\n",
       "  </tbody>\n",
       "</table>\n",
       "</div>"
      ],
      "text/plain": [
       "        DATE  CSUSHPISA  UNRATE  FEDFUNDS  DSPIC96  A939RX0Q048SBEA  \\\n",
       "0 2004-01-01    141.646     5.7      1.00  10472.7          48633.0   \n",
       "1 2005-01-01    161.288     5.3      2.28  10670.3          50068.0   \n",
       "2 2006-01-01    182.320     4.7      4.29  11096.7          51200.0   \n",
       "3 2007-01-01    184.516     4.6      5.25  11403.7          51492.0   \n",
       "4 2008-01-01    173.132     5.0      3.94  11553.4          51740.0   \n",
       "\n",
       "   L312051A027NBEA  HOUSTNSA  Year  Month  \n",
       "0           27.201     124.5  2004      1  \n",
       "1           27.651     142.9  2005      1  \n",
       "2           28.604     153.0  2006      1  \n",
       "3           29.512      95.0  2007      1  \n",
       "4           29.876      70.8  2008      1  "
      ]
     },
     "execution_count": 4,
     "metadata": {},
     "output_type": "execute_result"
    }
   ],
   "source": [
    "merged_data[\"Year\"] = pd.DatetimeIndex(merged_data[\"DATE\"]).year\n",
    "merged_data[\"Month\"] = pd.DatetimeIndex(merged_data[\"DATE\"]).month\n",
    "merged_data.head()"
   ]
  },
  {
   "cell_type": "code",
   "execution_count": 5,
   "id": "f3b67ac8",
   "metadata": {},
   "outputs": [],
   "source": [
    "# Dropping year and month columns\n",
    "merged_data.drop(columns = [\"Year\", \"Month\"], inplace = True)"
   ]
  },
  {
   "cell_type": "code",
   "execution_count": 6,
   "id": "25a594ea",
   "metadata": {},
   "outputs": [
    {
     "data": {
      "text/html": [
       "<div>\n",
       "<style scoped>\n",
       "    .dataframe tbody tr th:only-of-type {\n",
       "        vertical-align: middle;\n",
       "    }\n",
       "\n",
       "    .dataframe tbody tr th {\n",
       "        vertical-align: top;\n",
       "    }\n",
       "\n",
       "    .dataframe thead th {\n",
       "        text-align: right;\n",
       "    }\n",
       "</style>\n",
       "<table border=\"1\" class=\"dataframe\">\n",
       "  <thead>\n",
       "    <tr style=\"text-align: right;\">\n",
       "      <th></th>\n",
       "      <th>CSUSHPISA</th>\n",
       "      <th>UNRATE</th>\n",
       "      <th>FEDFUNDS</th>\n",
       "      <th>DSPIC96</th>\n",
       "      <th>A939RX0Q048SBEA</th>\n",
       "      <th>L312051A027NBEA</th>\n",
       "      <th>HOUSTNSA</th>\n",
       "    </tr>\n",
       "  </thead>\n",
       "  <tbody>\n",
       "    <tr>\n",
       "      <th>CSUSHPISA</th>\n",
       "      <td>1.000000</td>\n",
       "      <td>-0.674783</td>\n",
       "      <td>0.266048</td>\n",
       "      <td>0.805004</td>\n",
       "      <td>0.868001</td>\n",
       "      <td>0.723248</td>\n",
       "      <td>0.482957</td>\n",
       "    </tr>\n",
       "    <tr>\n",
       "      <th>UNRATE</th>\n",
       "      <td>-0.674783</td>\n",
       "      <td>1.000000</td>\n",
       "      <td>-0.563377</td>\n",
       "      <td>-0.304754</td>\n",
       "      <td>-0.543040</td>\n",
       "      <td>-0.220350</td>\n",
       "      <td>-0.673770</td>\n",
       "    </tr>\n",
       "    <tr>\n",
       "      <th>FEDFUNDS</th>\n",
       "      <td>0.266048</td>\n",
       "      <td>-0.563377</td>\n",
       "      <td>1.000000</td>\n",
       "      <td>-0.293714</td>\n",
       "      <td>-0.069170</td>\n",
       "      <td>-0.368047</td>\n",
       "      <td>0.525005</td>\n",
       "    </tr>\n",
       "    <tr>\n",
       "      <th>DSPIC96</th>\n",
       "      <td>0.805004</td>\n",
       "      <td>-0.304754</td>\n",
       "      <td>-0.293714</td>\n",
       "      <td>1.000000</td>\n",
       "      <td>0.946105</td>\n",
       "      <td>0.971228</td>\n",
       "      <td>0.044727</td>\n",
       "    </tr>\n",
       "    <tr>\n",
       "      <th>A939RX0Q048SBEA</th>\n",
       "      <td>0.868001</td>\n",
       "      <td>-0.543040</td>\n",
       "      <td>-0.069170</td>\n",
       "      <td>0.946105</td>\n",
       "      <td>1.000000</td>\n",
       "      <td>0.902414</td>\n",
       "      <td>0.187209</td>\n",
       "    </tr>\n",
       "    <tr>\n",
       "      <th>L312051A027NBEA</th>\n",
       "      <td>0.723248</td>\n",
       "      <td>-0.220350</td>\n",
       "      <td>-0.368047</td>\n",
       "      <td>0.971228</td>\n",
       "      <td>0.902414</td>\n",
       "      <td>1.000000</td>\n",
       "      <td>-0.062303</td>\n",
       "    </tr>\n",
       "    <tr>\n",
       "      <th>HOUSTNSA</th>\n",
       "      <td>0.482957</td>\n",
       "      <td>-0.673770</td>\n",
       "      <td>0.525005</td>\n",
       "      <td>0.044727</td>\n",
       "      <td>0.187209</td>\n",
       "      <td>-0.062303</td>\n",
       "      <td>1.000000</td>\n",
       "    </tr>\n",
       "  </tbody>\n",
       "</table>\n",
       "</div>"
      ],
      "text/plain": [
       "                 CSUSHPISA    UNRATE  FEDFUNDS   DSPIC96  A939RX0Q048SBEA  \\\n",
       "CSUSHPISA         1.000000 -0.674783  0.266048  0.805004         0.868001   \n",
       "UNRATE           -0.674783  1.000000 -0.563377 -0.304754        -0.543040   \n",
       "FEDFUNDS          0.266048 -0.563377  1.000000 -0.293714        -0.069170   \n",
       "DSPIC96           0.805004 -0.304754 -0.293714  1.000000         0.946105   \n",
       "A939RX0Q048SBEA   0.868001 -0.543040 -0.069170  0.946105         1.000000   \n",
       "L312051A027NBEA   0.723248 -0.220350 -0.368047  0.971228         0.902414   \n",
       "HOUSTNSA          0.482957 -0.673770  0.525005  0.044727         0.187209   \n",
       "\n",
       "                 L312051A027NBEA  HOUSTNSA  \n",
       "CSUSHPISA               0.723248  0.482957  \n",
       "UNRATE                 -0.220350 -0.673770  \n",
       "FEDFUNDS               -0.368047  0.525005  \n",
       "DSPIC96                 0.971228  0.044727  \n",
       "A939RX0Q048SBEA         0.902414  0.187209  \n",
       "L312051A027NBEA         1.000000 -0.062303  \n",
       "HOUSTNSA               -0.062303  1.000000  "
      ]
     },
     "execution_count": 6,
     "metadata": {},
     "output_type": "execute_result"
    }
   ],
   "source": [
    "#Correlation\n",
    "merged_data.corr()"
   ]
  },
  {
   "cell_type": "code",
   "execution_count": 7,
   "id": "733d68f4",
   "metadata": {},
   "outputs": [
    {
     "data": {
      "text/plain": [
       "DATE               0\n",
       "CSUSHPISA          0\n",
       "UNRATE             0\n",
       "FEDFUNDS           0\n",
       "DSPIC96            0\n",
       "A939RX0Q048SBEA    0\n",
       "L312051A027NBEA    0\n",
       "HOUSTNSA           0\n",
       "dtype: int64"
      ]
     },
     "execution_count": 7,
     "metadata": {},
     "output_type": "execute_result"
    }
   ],
   "source": [
    "merged_data.isna().sum()"
   ]
  },
  {
   "cell_type": "code",
   "execution_count": 8,
   "id": "a7fbf1b3",
   "metadata": {},
   "outputs": [
    {
     "data": {
      "text/plain": [
       "(18, 8)"
      ]
     },
     "execution_count": 8,
     "metadata": {},
     "output_type": "execute_result"
    }
   ],
   "source": [
    "merged_data.shape"
   ]
  },
  {
   "cell_type": "code",
   "execution_count": 9,
   "id": "bc46728f",
   "metadata": {},
   "outputs": [
    {
     "data": {
      "text/html": [
       "<div>\n",
       "<style scoped>\n",
       "    .dataframe tbody tr th:only-of-type {\n",
       "        vertical-align: middle;\n",
       "    }\n",
       "\n",
       "    .dataframe tbody tr th {\n",
       "        vertical-align: top;\n",
       "    }\n",
       "\n",
       "    .dataframe thead th {\n",
       "        text-align: right;\n",
       "    }\n",
       "</style>\n",
       "<table border=\"1\" class=\"dataframe\">\n",
       "  <thead>\n",
       "    <tr style=\"text-align: right;\">\n",
       "      <th></th>\n",
       "      <th>DATE</th>\n",
       "      <th>CSUSHPISA</th>\n",
       "      <th>UNRATE</th>\n",
       "      <th>FEDFUNDS</th>\n",
       "      <th>DSPIC96</th>\n",
       "      <th>A939RX0Q048SBEA</th>\n",
       "      <th>L312051A027NBEA</th>\n",
       "      <th>HOUSTNSA</th>\n",
       "    </tr>\n",
       "  </thead>\n",
       "  <tbody>\n",
       "    <tr>\n",
       "      <th>0</th>\n",
       "      <td>2004-01-01</td>\n",
       "      <td>141.646</td>\n",
       "      <td>5.7</td>\n",
       "      <td>1.00</td>\n",
       "      <td>10472.7</td>\n",
       "      <td>48633.0</td>\n",
       "      <td>27.201</td>\n",
       "      <td>124.5</td>\n",
       "    </tr>\n",
       "    <tr>\n",
       "      <th>1</th>\n",
       "      <td>2005-01-01</td>\n",
       "      <td>161.288</td>\n",
       "      <td>5.3</td>\n",
       "      <td>2.28</td>\n",
       "      <td>10670.3</td>\n",
       "      <td>50068.0</td>\n",
       "      <td>27.651</td>\n",
       "      <td>142.9</td>\n",
       "    </tr>\n",
       "    <tr>\n",
       "      <th>2</th>\n",
       "      <td>2006-01-01</td>\n",
       "      <td>182.320</td>\n",
       "      <td>4.7</td>\n",
       "      <td>4.29</td>\n",
       "      <td>11096.7</td>\n",
       "      <td>51200.0</td>\n",
       "      <td>28.604</td>\n",
       "      <td>153.0</td>\n",
       "    </tr>\n",
       "    <tr>\n",
       "      <th>3</th>\n",
       "      <td>2007-01-01</td>\n",
       "      <td>184.516</td>\n",
       "      <td>4.6</td>\n",
       "      <td>5.25</td>\n",
       "      <td>11403.7</td>\n",
       "      <td>51492.0</td>\n",
       "      <td>29.512</td>\n",
       "      <td>95.0</td>\n",
       "    </tr>\n",
       "    <tr>\n",
       "      <th>4</th>\n",
       "      <td>2008-01-01</td>\n",
       "      <td>173.132</td>\n",
       "      <td>5.0</td>\n",
       "      <td>3.94</td>\n",
       "      <td>11553.4</td>\n",
       "      <td>51740.0</td>\n",
       "      <td>29.876</td>\n",
       "      <td>70.8</td>\n",
       "    </tr>\n",
       "  </tbody>\n",
       "</table>\n",
       "</div>"
      ],
      "text/plain": [
       "        DATE  CSUSHPISA  UNRATE  FEDFUNDS  DSPIC96  A939RX0Q048SBEA  \\\n",
       "0 2004-01-01    141.646     5.7      1.00  10472.7          48633.0   \n",
       "1 2005-01-01    161.288     5.3      2.28  10670.3          50068.0   \n",
       "2 2006-01-01    182.320     4.7      4.29  11096.7          51200.0   \n",
       "3 2007-01-01    184.516     4.6      5.25  11403.7          51492.0   \n",
       "4 2008-01-01    173.132     5.0      3.94  11553.4          51740.0   \n",
       "\n",
       "   L312051A027NBEA  HOUSTNSA  \n",
       "0           27.201     124.5  \n",
       "1           27.651     142.9  \n",
       "2           28.604     153.0  \n",
       "3           29.512      95.0  \n",
       "4           29.876      70.8  "
      ]
     },
     "execution_count": 9,
     "metadata": {},
     "output_type": "execute_result"
    }
   ],
   "source": [
    "merged_data.head()"
   ]
  },
  {
   "cell_type": "code",
   "execution_count": 10,
   "id": "b06d775e",
   "metadata": {},
   "outputs": [
    {
     "data": {
      "text/html": [
       "<div>\n",
       "<style scoped>\n",
       "    .dataframe tbody tr th:only-of-type {\n",
       "        vertical-align: middle;\n",
       "    }\n",
       "\n",
       "    .dataframe tbody tr th {\n",
       "        vertical-align: top;\n",
       "    }\n",
       "\n",
       "    .dataframe thead th {\n",
       "        text-align: right;\n",
       "    }\n",
       "</style>\n",
       "<table border=\"1\" class=\"dataframe\">\n",
       "  <thead>\n",
       "    <tr style=\"text-align: right;\">\n",
       "      <th></th>\n",
       "      <th>DATE</th>\n",
       "      <th>CSUSHPISA</th>\n",
       "      <th>UNRATE</th>\n",
       "      <th>FEDFUNDS</th>\n",
       "      <th>DSPIC96</th>\n",
       "      <th>A939RX0Q048SBEA</th>\n",
       "      <th>L312051A027NBEA</th>\n",
       "      <th>HOUSTNSA</th>\n",
       "    </tr>\n",
       "  </thead>\n",
       "  <tbody>\n",
       "    <tr>\n",
       "      <th>13</th>\n",
       "      <td>2017-01-01</td>\n",
       "      <td>186.800</td>\n",
       "      <td>4.7</td>\n",
       "      <td>0.65</td>\n",
       "      <td>13747.2</td>\n",
       "      <td>54866.0</td>\n",
       "      <td>35.771</td>\n",
       "      <td>82.3</td>\n",
       "    </tr>\n",
       "    <tr>\n",
       "      <th>14</th>\n",
       "      <td>2018-01-01</td>\n",
       "      <td>198.294</td>\n",
       "      <td>4.0</td>\n",
       "      <td>1.41</td>\n",
       "      <td>14173.9</td>\n",
       "      <td>56195.0</td>\n",
       "      <td>38.859</td>\n",
       "      <td>91.6</td>\n",
       "    </tr>\n",
       "    <tr>\n",
       "      <th>15</th>\n",
       "      <td>2019-01-01</td>\n",
       "      <td>206.495</td>\n",
       "      <td>4.0</td>\n",
       "      <td>2.40</td>\n",
       "      <td>14791.2</td>\n",
       "      <td>57100.0</td>\n",
       "      <td>40.185</td>\n",
       "      <td>87.0</td>\n",
       "    </tr>\n",
       "    <tr>\n",
       "      <th>16</th>\n",
       "      <td>2020-01-01</td>\n",
       "      <td>214.904</td>\n",
       "      <td>3.5</td>\n",
       "      <td>1.55</td>\n",
       "      <td>15149.7</td>\n",
       "      <td>57279.0</td>\n",
       "      <td>44.147</td>\n",
       "      <td>113.1</td>\n",
       "    </tr>\n",
       "    <tr>\n",
       "      <th>17</th>\n",
       "      <td>2021-01-01</td>\n",
       "      <td>239.413</td>\n",
       "      <td>6.3</td>\n",
       "      <td>0.09</td>\n",
       "      <td>17099.2</td>\n",
       "      <td>57882.0</td>\n",
       "      <td>45.296</td>\n",
       "      <td>115.2</td>\n",
       "    </tr>\n",
       "  </tbody>\n",
       "</table>\n",
       "</div>"
      ],
      "text/plain": [
       "         DATE  CSUSHPISA  UNRATE  FEDFUNDS  DSPIC96  A939RX0Q048SBEA  \\\n",
       "13 2017-01-01    186.800     4.7      0.65  13747.2          54866.0   \n",
       "14 2018-01-01    198.294     4.0      1.41  14173.9          56195.0   \n",
       "15 2019-01-01    206.495     4.0      2.40  14791.2          57100.0   \n",
       "16 2020-01-01    214.904     3.5      1.55  15149.7          57279.0   \n",
       "17 2021-01-01    239.413     6.3      0.09  17099.2          57882.0   \n",
       "\n",
       "    L312051A027NBEA  HOUSTNSA  \n",
       "13           35.771      82.3  \n",
       "14           38.859      91.6  \n",
       "15           40.185      87.0  \n",
       "16           44.147     113.1  \n",
       "17           45.296     115.2  "
      ]
     },
     "execution_count": 10,
     "metadata": {},
     "output_type": "execute_result"
    }
   ],
   "source": [
    "merged_data.tail()"
   ]
  },
  {
   "cell_type": "code",
   "execution_count": 11,
   "id": "7f6cace6",
   "metadata": {},
   "outputs": [],
   "source": [
    "from sklearn.model_selection import train_test_split\n",
    "\n",
    "X = merged_data[['UNRATE', 'FEDFUNDS', 'DSPIC96', 'A939RX0Q048SBEA', 'L312051A027NBEA', 'HOUSTNSA']]\n",
    "y = merged_data['CSUSHPISA']"
   ]
  },
  {
   "cell_type": "code",
   "execution_count": 12,
   "id": "fa612eb0",
   "metadata": {},
   "outputs": [
    {
     "data": {
      "image/png": "[encoded data removed]",
      "text/plain": [
       "<Figure size 432x288 with 1 Axes>"
      ]
     },
     "metadata": {
      "needs_background": "light"
     },
     "output_type": "display_data"
    },
    {
     "data": {
      "image/png": "[encoded data removed]",
      "text/plain": [
       "<Figure size 432x288 with 1 Axes>"
      ]
     },
     "metadata": {
      "needs_background": "light"
     },
     "output_type": "display_data"
    },
    {
     "data": {
      "image/png": "[encoded data removed]",
      "text/plain": [
       "<Figure size 432x288 with 1 Axes>"
      ]
     },
     "metadata": {
      "needs_background": "light"
     },
     "output_type": "display_data"
    },
    {
     "data": {
      "image/png": "[encoded data removed]",
      "text/plain": [
       "<Figure size 432x288 with 1 Axes>"
      ]
     },
     "metadata": {
      "needs_background": "light"
     },
     "output_type": "display_data"
    },
    {
     "data": {
      "image/png": "[encoded data removed]",
      "text/plain": [
       "<Figure size 432x288 with 1 Axes>"
      ]
     },
     "metadata": {
      "needs_background": "light"
     },
     "output_type": "display_data"
    },
    {
     "data": {
      "image/png": "[encoded data removed]",
      "text/plain": [
       "<Figure size 432x288 with 1 Axes>"
      ]
     },
     "metadata": {
      "needs_background": "light"
     },
     "output_type": "display_data"
    }
   ],
   "source": [
    "# Plotting scatter plots of the CASE-SHILLER index vs features\n",
    "import matplotlib.pyplot as plt\n",
    "for feature in X.columns:\n",
    "    plt.figure()\n",
    "    plt.scatter(x = X[feature], y = y)\n",
    "    plt.xlabel(feature)\n",
    "    plt.ylabel(\"CASE-SHILLER index\")\n",
    "    plt.title(f\"CASE-SHILLER index vs {feature}\")"
   ]
  },
  {
   "cell_type": "code",
   "execution_count": 14,
   "id": "ca426cfa",
   "metadata": {},
   "outputs": [],
   "source": [
    "from sklearn.preprocessing import MinMaxScaler\n",
    "\n",
    "# Scaling\n",
    "scalar = MinMaxScaler()\n",
    "X = scalar.fit_transform(X)"
   ]
  },
  {
   "cell_type": "code",
   "execution_count": 13,
   "id": "b6d5c0b0",
   "metadata": {},
   "outputs": [],
   "source": [
    "X_train, X_test, y_train, y_test = train_test_split(X, y, test_size=0.2, random_state=22)"
   ]
  },
  {
   "cell_type": "code",
   "execution_count": 15,
   "id": "8f50856d",
   "metadata": {},
   "outputs": [],
   "source": [
    "from sklearn.metrics import r2_score\n",
    "from sklearn.linear_model import LinearRegression, Ridge, Lasso\n",
    "from sklearn.ensemble import RandomForestRegressor, GradientBoostingRegressor"
   ]
  },
  {
   "cell_type": "code",
   "execution_count": 16,
   "id": "b7d8446a",
   "metadata": {},
   "outputs": [
    {
     "name": "stdout",
     "output_type": "stream",
     "text": [
      "The r2_score for the validation set is:  0.9517710475385949\n"
     ]
    }
   ],
   "source": [
    "model = LinearRegression()\n",
    "model.fit(X_train, y_train)\n",
    "pred = model.predict(X_test)\n",
    "score = r2_score(pred, y_test)\n",
    "print(\"The r2_score for the validation set is: \", score)"
   ]
  },
  {
   "cell_type": "code",
   "execution_count": 17,
   "id": "ec93c4f6",
   "metadata": {},
   "outputs": [
    {
     "name": "stdout",
     "output_type": "stream",
     "text": [
      "0.9606739735533659\n"
     ]
    }
   ],
   "source": [
    "model1 = Ridge()\n",
    "model1.fit(X_train, y_train)\n",
    "pred1 = model1.predict(X_test)\n",
    "score1 = r2_score(pred1, y_test)\n",
    "print(score1)"
   ]
  },
  {
   "cell_type": "code",
   "execution_count": 18,
   "id": "1f2c6faa",
   "metadata": {},
   "outputs": [
    {
     "name": "stdout",
     "output_type": "stream",
     "text": [
      "0.97303201869103\n"
     ]
    }
   ],
   "source": [
    "model2 = Lasso()\n",
    "model2.fit(X_train, y_train)\n",
    "pred2 = model2.predict(X_test)\n",
    "score2 = r2_score(pred2, y_test)\n",
    "print(score2)"
   ]
  },
  {
   "cell_type": "code",
   "execution_count": 19,
   "id": "522917f8",
   "metadata": {},
   "outputs": [
    {
     "name": "stdout",
     "output_type": "stream",
     "text": [
      "0.8920218133361913\n"
     ]
    }
   ],
   "source": [
    "model3 = RandomForestRegressor()\n",
    "model3.fit(X_train, y_train)\n",
    "pred3 = model3.predict(X_test)\n",
    "score3 = r2_score(pred3, y_test)\n",
    "print(score3)"
   ]
  },
  {
   "cell_type": "code",
   "execution_count": 20,
   "id": "4a800142",
   "metadata": {},
   "outputs": [
    {
     "name": "stdout",
     "output_type": "stream",
     "text": [
      "0.8920218133361913\n"
     ]
    }
   ],
   "source": [
    "model4 = GradientBoostingRegressor()\n",
    "model4.fit(X_train, y_train)\n",
    "pred4 = model4.predict(X_test)\n",
    "score4 = r2_score(pred4, y_test)\n",
    "print(score3)"
   ]
  },
  {
   "cell_type": "markdown",
   "id": "0d566ad4",
   "metadata": {},
   "source": [
    "The best model is we found is Lasso Linear Regression Model"
   ]
  },
  {
   "cell_type": "code",
   "execution_count": 23,
   "id": "65de53c0",
   "metadata": {},
   "outputs": [
    {
     "name": "stdout",
     "output_type": "stream",
     "text": [
      "The coefficient for DATE is -2.8390269533866452\n",
      "The coefficient for CSUSHPISA is 8.56338164704765\n",
      "The coefficient for UNRATE is 0.019834068456181075\n",
      "The coefficient for FEDFUNDS is -0.00628783331109517\n",
      "The coefficient for DSPIC96 is 1.6532909617287264\n",
      "The coefficient for A939RX0Q048SBEA is 0.12299736649496507\n"
     ]
    }
   ],
   "source": [
    "#Printing the regression coefficients of different variables\n",
    "coefs = model.coef_\n",
    "cols = merged_data.columns\n",
    "for i in range(len(coefs)):\n",
    "    print(f\"The coefficient for {cols[i]} is {coefs[i]}\")"
   ]
  },
  {
   "cell_type": "code",
   "execution_count": 24,
   "id": "9d706515",
   "metadata": {},
   "outputs": [
    {
     "name": "stdout",
     "output_type": "stream",
     "text": [
      "The intercept is:  191.7709049151089\n"
     ]
    }
   ],
   "source": [
    "# The intercept\n",
    "print(\"The intercept is: \", model.intercept_)"
   ]
  },
  {
   "cell_type": "code",
   "execution_count": 25,
   "id": "6741d6fa",
   "metadata": {},
   "outputs": [
    {
     "name": "stdout",
     "output_type": "stream",
     "text": [
      "The intercept is:  164.11919019898826\n"
     ]
    }
   ],
   "source": [
    "# The intercept\n",
    "print(\"The intercept is: \", model1.intercept_)"
   ]
  },
  {
   "cell_type": "code",
   "execution_count": 26,
   "id": "fdf038ab",
   "metadata": {},
   "outputs": [
    {
     "name": "stdout",
     "output_type": "stream",
     "text": [
      "The intercept is:  92.83593372988281\n"
     ]
    }
   ],
   "source": [
    "# The intercept\n",
    "print(\"The intercept is: \", model2.intercept_)"
   ]
  },
  {
   "cell_type": "markdown",
   "id": "3943bf49",
   "metadata": {},
   "source": [
    "# Key Factors\n",
    "\n",
    "1) Unmployment Rate\n",
    "2) Federal Funds Effective Rate\n",
    "3) Income\n",
    "4) Per Capita GDP \n",
    "5) Housing Subsidies(Federal)\n",
    "6) Household Units\n",
    "\n",
    "As most variable increase with time. So, it is expected that they will have high correlation. So, instead of depending upon the linear model, we can directly study the impact of variables on the home price index using the scatter plots.\n",
    "\n",
    "A few variables that could have been studied are below.\n",
    "\n",
    "1) Marriage Rate (People tend to buy homes after they get married. So, it might have some effect. No data could be found)\n",
    "\n",
    "2) Average house size (The data was available only for the years after 2015. Though it is expected that an increase in the average house size would increase prices, it is found that the average home size has been consistently decreasing although the prica has been increasing)\n",
    "\n",
    "3) Land availability (Less land, higher prices. Perhaps this is why the prices has been rising even though the average house size has been decreasing. No relevant data could be found)"
   ]
  },
  {
   "cell_type": "code",
   "execution_count": null,
   "id": "e5fe2e36",
   "metadata": {},
   "outputs": [],
   "source": []
  }
 ],
 "metadata": {
  "kernelspec": {
   "display_name": "Python 3",
   "language": "python",
   "name": "python3"
  },
  "language_info": {
   "codemirror_mode": {
    "name": "ipython",
    "version": 3
   },
   "file_extension": ".py",
   "mimetype": "text/x-python",
   "name": "python",
   "nbconvert_exporter": "python",
   "pygments_lexer": "ipython3",
   "version": "3.6.13"
  }
 },
 "nbformat": 4,
 "nbformat_minor": 5
}
